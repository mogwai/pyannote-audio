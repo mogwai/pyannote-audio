{
 "cells": [
  {
   "cell_type": "code",
   "execution_count": null,
   "metadata": {},
   "outputs": [],
   "source": [
    "%reload_ext autoreload\n",
    "%autoreload 2"
   ]
  },
  {
   "cell_type": "code",
   "execution_count": null,
   "metadata": {},
   "outputs": [],
   "source": [
    "from IPython.display import Audio as Play\n",
    "from pyannote.database import get_protocol, FileFinder\n",
    "from pyannote.audio.utils.preview import listen\n",
    "from pyannote.audio.core.io import Audio\n",
    "from pyannote.core import Segment"
   ]
  },
  {
   "cell_type": "code",
   "execution_count": null,
   "metadata": {},
   "outputs": [],
   "source": [
    "# gett a 5s excerpt of first test file\n",
    "protocol = get_protocol('Debug.SpeakerDiarization.Debug', \n",
    "                        preprocessors={\"audio\": FileFinder()})\n",
    "file = next(protocol.test())\n",
    "\n",
    "audio = Audio(sample_rate=16000, mono=True)\n",
    "\n",
    "# Load cropped audio\n",
    "waveform, sample_rate = audio.crop(file, Segment(0, 5))\n",
    "\n",
    "# Listen\n",
    "print(waveform.shape, sample_rate)\n",
    "listen({'waveform':waveform, 'sample_rate': sample_rate})"
   ]
  },
  {
   "cell_type": "markdown",
   "metadata": {},
   "source": [
    "## Augmentation Pipeline"
   ]
  },
  {
   "cell_type": "code",
   "execution_count": null,
   "metadata": {},
   "outputs": [],
   "source": [
    "from pyannote.audio.transforms.pipeline import TransformsPipe\n",
    "\n",
    "from pyannote.audio.tasks.segmentation.voice_activity_detection import VoiceActivityDetection\n",
    "from pyannote.audio.models.debug import SimpleSegmentationModel\n",
    "vad = VoiceActivityDetection(protocol, batch_size=2)\n",
    "model = SimpleSegmentationModel(task=vad)"
   ]
  },
  {
   "cell_type": "code",
   "execution_count": null,
   "metadata": {},
   "outputs": [],
   "source": [
    "from pyannote.audio.transforms.transforms import Reverb\n",
    "reverb = Reverb(p=1, sample_rate=16000)(waveform[None].repeat(3,1,1))\n",
    "Play(reverb[1], rate=16000)"
   ]
  },
  {
   "cell_type": "code",
   "execution_count": null,
   "metadata": {},
   "outputs": [],
   "source": [
    "# define a model that simply returns the waveform\n",
    "from pyannote.audio.core.model import Model\n",
    "class Passthrough(Model):\n",
    "    def forward(self, waveforms):\n",
    "        return waveforms\n",
    "    \n",
    "identity = Passthrough()"
   ]
  },
  {
   "cell_type": "code",
   "execution_count": null,
   "metadata": {},
   "outputs": [],
   "source": [
    "# pass the waveform through this \"identity\" model\n",
    "Play(identity(waveform).squeeze(), rate=sample_rate, normalize=False, autoplay=True)"
   ]
  },
  {
   "cell_type": "code",
   "execution_count": null,
   "metadata": {},
   "outputs": [],
   "source": [
    "# add one torch_audiomentations waveform transform to the model\n",
    "from pyannote.audio.augmentation.registry import register_augmentation\n",
    "from torch_audiomentations import Gain\n",
    "gain = Gain(\n",
    "    min_gain_in_db=-15.0,\n",
    "    max_gain_in_db=5.0,\n",
    "    p=0.5)\n",
    "register_augmentation(gain, identity, when='input')"
   ]
  },
  {
   "cell_type": "code",
   "execution_count": null,
   "metadata": {},
   "outputs": [],
   "source": [
    "identity"
   ]
  },
  {
   "cell_type": "code",
   "execution_count": null,
   "metadata": {},
   "outputs": [],
   "source": [
    "# pass the waveform through the \"augmented\" model\n",
    "Play(identity(waveform).squeeze(), rate=sample_rate, normalize=False, autoplay=True)"
   ]
  },
  {
   "cell_type": "code",
   "execution_count": null,
   "metadata": {},
   "outputs": [],
   "source": []
  },
  {
   "cell_type": "code",
   "execution_count": null,
   "metadata": {},
   "outputs": [],
   "source": [
    "    "
   ]
  }
 ],
 "metadata": {
  "kernelspec": {
   "display_name": "Python 3",
   "language": "python",
   "name": "python3"
  },
  "language_info": {
   "codemirror_mode": {
    "name": "ipython",
    "version": 3
   },
   "file_extension": ".py",
   "mimetype": "text/x-python",
   "name": "python",
   "nbconvert_exporter": "python",
   "pygments_lexer": "ipython3",
   "version": "3.8.6"
  }
 },
 "nbformat": 4,
 "nbformat_minor": 4
}
